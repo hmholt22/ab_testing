{
 "cells": [
  {
   "cell_type": "code",
   "execution_count": 64,
   "id": "f6938fdb",
   "metadata": {},
   "outputs": [],
   "source": [
    "import pandas as pd\n",
    "import numpy as np\n",
    "import seaborn as sns\n",
    "import matplotlib.pyplot as plt"
   ]
  },
  {
   "cell_type": "code",
   "execution_count": 2,
   "id": "cb6c65d7",
   "metadata": {},
   "outputs": [],
   "source": [
    "#read data\n",
    "outcomes = pd.read_csv('ab_test_results_aggregated_views_clicks_3.csv')"
   ]
  },
  {
   "cell_type": "markdown",
   "id": "f70d595f",
   "metadata": {},
   "source": [
    "## Initial data investigation\n",
    "\n",
    "Initial analysis suggests we have an evenly balanced treatment and control group with outcomes for views and clicks. "
   ]
  },
  {
   "cell_type": "code",
   "execution_count": 3,
   "id": "fd13497e",
   "metadata": {},
   "outputs": [
    {
     "data": {
      "text/html": [
       "<div>\n",
       "<style scoped>\n",
       "    .dataframe tbody tr th:only-of-type {\n",
       "        vertical-align: middle;\n",
       "    }\n",
       "\n",
       "    .dataframe tbody tr th {\n",
       "        vertical-align: top;\n",
       "    }\n",
       "\n",
       "    .dataframe thead th {\n",
       "        text-align: right;\n",
       "    }\n",
       "</style>\n",
       "<table border=\"1\" class=\"dataframe\">\n",
       "  <thead>\n",
       "    <tr style=\"text-align: right;\">\n",
       "      <th></th>\n",
       "      <th>user_id</th>\n",
       "      <th>group</th>\n",
       "      <th>views</th>\n",
       "      <th>clicks</th>\n",
       "    </tr>\n",
       "  </thead>\n",
       "  <tbody>\n",
       "    <tr>\n",
       "      <th>0</th>\n",
       "      <td>1</td>\n",
       "      <td>control</td>\n",
       "      <td>3.0</td>\n",
       "      <td>0.0</td>\n",
       "    </tr>\n",
       "    <tr>\n",
       "      <th>1</th>\n",
       "      <td>2</td>\n",
       "      <td>control</td>\n",
       "      <td>2.0</td>\n",
       "      <td>0.0</td>\n",
       "    </tr>\n",
       "    <tr>\n",
       "      <th>2</th>\n",
       "      <td>3</td>\n",
       "      <td>control</td>\n",
       "      <td>2.0</td>\n",
       "      <td>0.0</td>\n",
       "    </tr>\n",
       "    <tr>\n",
       "      <th>3</th>\n",
       "      <td>4</td>\n",
       "      <td>control</td>\n",
       "      <td>2.0</td>\n",
       "      <td>0.0</td>\n",
       "    </tr>\n",
       "    <tr>\n",
       "      <th>4</th>\n",
       "      <td>5</td>\n",
       "      <td>control</td>\n",
       "      <td>5.0</td>\n",
       "      <td>0.0</td>\n",
       "    </tr>\n",
       "  </tbody>\n",
       "</table>\n",
       "</div>"
      ],
      "text/plain": [
       "   user_id    group  views  clicks\n",
       "0        1  control    3.0     0.0\n",
       "1        2  control    2.0     0.0\n",
       "2        3  control    2.0     0.0\n",
       "3        4  control    2.0     0.0\n",
       "4        5  control    5.0     0.0"
      ]
     },
     "execution_count": 3,
     "metadata": {},
     "output_type": "execute_result"
    }
   ],
   "source": [
    "outcomes.head()"
   ]
  },
  {
   "cell_type": "code",
   "execution_count": 25,
   "id": "701fd7d3",
   "metadata": {},
   "outputs": [
    {
     "name": "stdout",
     "output_type": "stream",
     "text": [
      "<class 'pandas.core.frame.DataFrame'>\n",
      "RangeIndex: 90000 entries, 0 to 89999\n",
      "Data columns (total 5 columns):\n",
      " #   Column             Non-Null Count  Dtype  \n",
      "---  ------             --------------  -----  \n",
      " 0   user_id            90000 non-null  int64  \n",
      " 1   group              90000 non-null  object \n",
      " 2   views              90000 non-null  float64\n",
      " 3   clicks             90000 non-null  float64\n",
      " 4   clickthrough_flag  90000 non-null  int32  \n",
      "dtypes: float64(2), int32(1), int64(1), object(1)\n",
      "memory usage: 3.1+ MB\n"
     ]
    }
   ],
   "source": [
    "outcomes.info()"
   ]
  },
  {
   "cell_type": "code",
   "execution_count": 24,
   "id": "63f62380",
   "metadata": {},
   "outputs": [
    {
     "data": {
      "text/plain": [
       "control    45000\n",
       "test       45000\n",
       "Name: group, dtype: int64"
      ]
     },
     "execution_count": 24,
     "metadata": {},
     "output_type": "execute_result"
    }
   ],
   "source": [
    "outcomes['group'].value_counts()"
   ]
  },
  {
   "cell_type": "markdown",
   "id": "90f39710",
   "metadata": {},
   "source": [
    "Let's check to make sure there aren't any duplicated user id's by using `set()`"
   ]
  },
  {
   "cell_type": "code",
   "execution_count": 26,
   "id": "19dd932d",
   "metadata": {},
   "outputs": [
    {
     "data": {
      "text/plain": [
       "True"
      ]
     },
     "execution_count": 26,
     "metadata": {},
     "output_type": "execute_result"
    }
   ],
   "source": [
    "#check for duplicated users\n",
    "len(outcomes['user_id']) == len(set(outcomes['user_id']))"
   ]
  },
  {
   "cell_type": "markdown",
   "id": "0be684c2",
   "metadata": {},
   "source": [
    "Let's group by control/treatment to get a sense of what our outcomes look like. \n",
    "\n",
    "Clicks are highly discretized with most outcomes = 0, and most non-zero outcomes at 1 and declining for 2, 3 and so on. Very few users click more than 5-6 times in either sample, though we do get more in the treatment."
   ]
  },
  {
   "cell_type": "code",
   "execution_count": 27,
   "id": "b383e75b",
   "metadata": {},
   "outputs": [
    {
     "data": {
      "text/plain": [
       "group    clicks\n",
       "control  0.0       36138\n",
       "         1.0        7261\n",
       "         2.0        1245\n",
       "         3.0         243\n",
       "         4.0          71\n",
       "         5.0          26\n",
       "         6.0           6\n",
       "         7.0           6\n",
       "         8.0           1\n",
       "         9.0           2\n",
       "         10.0          1\n",
       "test     0.0       34145\n",
       "         1.0        8621\n",
       "         2.0        1634\n",
       "         3.0         398\n",
       "         4.0         121\n",
       "         5.0          43\n",
       "         6.0          21\n",
       "         7.0           9\n",
       "         8.0           5\n",
       "         10.0          2\n",
       "         14.0          1\n",
       "Name: user_id, dtype: int64"
      ]
     },
     "execution_count": 27,
     "metadata": {},
     "output_type": "execute_result"
    }
   ],
   "source": [
    "outcomes.groupby(['group', 'clicks'])['user_id'].count()"
   ]
  },
  {
   "cell_type": "code",
   "execution_count": 41,
   "id": "63a47fe5",
   "metadata": {},
   "outputs": [
    {
     "data": {
      "text/plain": [
       "<AxesSubplot:xlabel='clicks', ylabel='Density'>"
      ]
     },
     "execution_count": 41,
     "metadata": {},
     "output_type": "execute_result"
    },
    {
     "data": {
      "image/png": "[encoded data removed]",
      "text/plain": [
       "<Figure size 432x288 with 1 Axes>"
      ]
     },
     "metadata": {
      "needs_background": "light"
     },
     "output_type": "display_data"
    }
   ],
   "source": [
    "#create masks\n",
    "control = outcomes['group'] == 'control'\n",
    "treatment = ~control\n",
    "\n",
    "sns.kdeplot(outcomes[control]['clicks'], fill = True)\n",
    "sns.kdeplot(outcomes[treatment]['clicks'], fill = True)"
   ]
  },
  {
   "cell_type": "markdown",
   "id": "836f0b0d",
   "metadata": {},
   "source": [
    "The views outcome appears much more continuous. The distributions lie right on top of each other and have similar means and standard deviations so we'll need a test to see if there's any difference between them.\n",
    "\n",
    "(Note: I include `ddof = 1` in the options even though it's the default just to keep this calculations straight between this and `np.std()` which defaults `ddof = 0`... annoying.)"
   ]
  },
  {
   "cell_type": "code",
   "execution_count": 32,
   "id": "1a99f33e",
   "metadata": {},
   "outputs": [
    {
     "data": {
      "text/plain": [
       "<AxesSubplot:xlabel='views', ylabel='Density'>"
      ]
     },
     "execution_count": 32,
     "metadata": {},
     "output_type": "execute_result"
    },
    {
     "data": {
      "image/png": "[encoded data removed]",
      "text/plain": [
       "<Figure size 432x288 with 1 Axes>"
      ]
     },
     "metadata": {
      "needs_background": "light"
     },
     "output_type": "display_data"
    }
   ],
   "source": [
    "sns.kdeplot(outcomes[control]['views'], fill = True)\n",
    "sns.kdeplot(outcomes[treatment]['views'], fill = True)"
   ]
  },
  {
   "cell_type": "code",
   "execution_count": 37,
   "id": "878862e4",
   "metadata": {},
   "outputs": [
    {
     "name": "stdout",
     "output_type": "stream",
     "text": [
      "The mean of views in the control group is 5.024466666666667\n",
      "The mean of views in the treatment group is 4.998577777777777\n",
      "The st deviation of views in the control group is 5.872971146588647\n",
      "The st deviation of views in the treatment group is 5.926679854713689\n"
     ]
    }
   ],
   "source": [
    "print(f\"The mean of views in the control group is {outcomes[control]['views'].mean()}\")\n",
    "print(f\"The mean of views in the treatment group is {outcomes[treatment]['views'].mean()}\")\n",
    "\n",
    "print(f\"The st deviation of views in the control group is {outcomes[control]['views'].std(ddof = 1)}\")\n",
    "print(f\"The st deviation of views in the treatment group is {outcomes[treatment]['views'].std(ddof = 1)}\")"
   ]
  },
  {
   "cell_type": "code",
   "execution_count": 114,
   "id": "b72020d6",
   "metadata": {},
   "outputs": [
    {
     "data": {
      "text/plain": [
       "-0.02588888888888974"
      ]
     },
     "execution_count": 114,
     "metadata": {},
     "output_type": "execute_result"
    }
   ],
   "source": [
    "outcomes[treatment]['views'].mean() - outcomes[control]['views'].mean()"
   ]
  },
  {
   "cell_type": "markdown",
   "id": "3778de00",
   "metadata": {},
   "source": [
    "## Initial t-test - page views\n",
    "\n",
    "Let's tackle the easiest problem first. A t-test for the views. We could also concievably do this for clicks, however since clicks is highly discretized, I'd rather treat it as a binomial problem, which we'll tackle next. \n",
    "\n",
    "Note that the distribution of `views` is obviously non-normal - probably log-normal as is usual for distributions with many zero-outcomes. In this case our hypothesis tests are compromised since the sampling data clearly violates our normality assumptions. However in this case, there are probably enough observations so that a standard t-test can still apply with a minimal loss in efficiency via the central limit theorem, so for now let's just do that. We can explore ways to correct this next. \n",
    "\n",
    "Since the experiment specifies that we're trying to increase the KPIs in the treatment sample, we can use a one-sided test. (Be careful to put your treatment and control in the correct input order in `ttest_ind()`!)\n",
    "\n",
    "Let's test the hypothesis:\n",
    "\n",
    "$H_0$: $\\mu_{T} = \\mu_{C}$\n",
    "\n",
    "$H_A$: $\\mu_{T} > \\mu_{C}$"
   ]
  },
  {
   "cell_type": "code",
   "execution_count": 42,
   "id": "c272d77b",
   "metadata": {},
   "outputs": [],
   "source": [
    "from scipy.stats import ttest_ind, mannwhitneyu\n",
    "\n",
    "#create dfs for ease of use\n",
    "df_control = outcomes[control]\n",
    "df_treatment = outcomes[treatment]"
   ]
  },
  {
   "cell_type": "code",
   "execution_count": 84,
   "id": "43991c08",
   "metadata": {},
   "outputs": [
    {
     "name": "stdout",
     "output_type": "stream",
     "text": [
      "The t-statistic for this test is -0.6582047394076368\n",
      "The p-value for this test is 0.7447958682785321\n",
      "\n",
      "\n",
      "The mean of the treatment group is not statistically higher than the control group. We cannot reject H_0.\n"
     ]
    }
   ],
   "source": [
    "ttest_results = ttest_ind(df_treatment['views'], df_control['views'], alternative = 'greater')\n",
    "t_stat = ttest_results.statistic\n",
    "p_val = ttest_results.pvalue\n",
    "\n",
    "print(f'The t-statistic for this test is {t_stat}')\n",
    "print(f'The p-value for this test is {p_val}')\n",
    "\n",
    "print('\\n')\n",
    "\n",
    "if p_val <= 0.05:\n",
    "    print(f'The mean of the treatment group is statistically higher than the control group. We reject H_0 and accept H_A.')\n",
    "else:\n",
    "    print(f'The mean of the treatment group is not statistically higher than the control group. We cannot reject H_0.')"
   ]
  },
  {
   "cell_type": "markdown",
   "id": "4c73c57b",
   "metadata": {},
   "source": [
    "Cross checking this result against our raw means - we see that the mean in the treatment group is indeed lower than that of the control group accounting for the negative test statistic. Obviously, this treatment did not produce an increase in page views. "
   ]
  },
  {
   "cell_type": "markdown",
   "id": "18621088",
   "metadata": {},
   "source": [
    "## Non-parametric tests\n",
    "\n",
    "When dealing with non-normal sampling data, it is sometimes suggested to use non-parametric tests. In this case we can use the Mann-Whitney U-test. Normally however these tests are typically only useful for very small sample sizes ($N <= 30$) and are underpowered compared to t-tests where there is a choice.  \n",
    "\n",
    "The large value of the U-Stat is reflective of the large sample sizes we have here. Regardless, we get essentially the same p-value as the t-test and so we arrive at the same conclusion as before."
   ]
  },
  {
   "cell_type": "code",
   "execution_count": 85,
   "id": "bcc4d0e5",
   "metadata": {},
   "outputs": [
    {
     "name": "stdout",
     "output_type": "stream",
     "text": [
      "The U-statistic for this test is 1009991161.0\n",
      "The p-value for this test is 0.7423500721091285\n",
      "\n",
      "\n",
      "The mean of the treatment group is not statistically higher than the control group. We cannot reject H_0.\n"
     ]
    }
   ],
   "source": [
    "mwu_results = mannwhitneyu(df_treatment['views'], df_control['views'], alternative = 'greater')\n",
    "u_stat = mwu_results.statistic\n",
    "p_val_u = mwu_results.pvalue\n",
    "\n",
    "print(f'The U-statistic for this test is {u_stat}')\n",
    "print(f'The p-value for this test is {p_val_u}')\n",
    "\n",
    "print('\\n')\n",
    "\n",
    "if p_val <= 0.05:\n",
    "    print(f'The mean of the treatment group is statistically higher than the control group. We reject H_0 and accept H_A')\n",
    "else:\n",
    "    print(f'The mean of the treatment group is not statistically higher than the control group. We cannot reject H_0.')"
   ]
  },
  {
   "cell_type": "markdown",
   "id": "7928c6b7",
   "metadata": {},
   "source": [
    "## Bootstrapping \n",
    "\n",
    "Finally, if we're really worried about the non-normality of the sampling distributions, we can always run a bootstrap hypothesis test. The primary advantage of using bootstrapping is that it is agnostic to the sampling distributions you're testing. Thanks to the Central Limit Theorem (CLT) we know that we can take repeated samples from a distribution of any type and the distribution of the means of those samples converges to a normal distribution. \n",
    "\n",
    "Here we take repeated samples with replacement, and compare the means between each, and keep a running count of the number of times the mean of the treatment group is larger than the mean of the control group. Let's re-state our hypothesis as:\n",
    "\n",
    "$H_0$: $Pr(\\mu_T > \\mu_C) <= 0.5$\n",
    "\n",
    "$H_A$: $Pr(\\mu_T > \\mu_C) > 0.5$\n",
    "\n",
    "Or, the null hypothesis states that the probability that the mean of the treatment group is larger than the mean of the control group is less than or equal to 50\\%, and the alternative states that it is greater than 50\\%."
   ]
  },
  {
   "cell_type": "code",
   "execution_count": 105,
   "id": "b6123aba",
   "metadata": {},
   "outputs": [
    {
     "data": {
      "text/plain": [
       "0.4663"
      ]
     },
     "execution_count": 105,
     "metadata": {},
     "output_type": "execute_result"
    }
   ],
   "source": [
    "subsample_size = 500\n",
    "samples = 10_000\n",
    "count = 0\n",
    "means_treatment = []\n",
    "means_control = []\n",
    "\n",
    "for i in range(samples):\n",
    "    treatment_subsample = df_treatment['views'].sample(n = subsample_size, replace = True)\n",
    "    control_subsample = df_control['views'].sample(n = subsample_size, replace = True)\n",
    "    \n",
    "    mean_treatment = treatment_subsample.mean()\n",
    "    mean_control = control_subsample.mean()\n",
    "    \n",
    "    means_treatment.append(mean_treatment)\n",
    "    means_control.append(mean_control)\n",
    "    \n",
    "    if mean_treatment > mean_control:\n",
    "        count +=1\n",
    "        \n",
    "prob_greater = count/samples\n",
    "\n",
    "prob_greater"
   ]
  },
  {
   "cell_type": "markdown",
   "id": "a08ca7dd",
   "metadata": {},
   "source": [
    "47\\% of the time we get a sample that produces $\\mu^{boot}_T > \\mu^{boot}_C$. Obviously, this suggests the mean of the treatment group is not higher than the control group. \n",
    "\n",
    "We can plot the distribution of the ratios of the means. As we expected, given the CLT, the normality of the data is restored by taking repeated samples of the data. "
   ]
  },
  {
   "cell_type": "code",
   "execution_count": 106,
   "id": "f570bdca",
   "metadata": {},
   "outputs": [
    {
     "data": {
      "text/plain": [
       "<matplotlib.legend.Legend at 0x2771e1a66a0>"
      ]
     },
     "execution_count": 106,
     "metadata": {},
     "output_type": "execute_result"
    },
    {
     "data": {
      "image/png": "[encoded data removed]",
      "text/plain": [
       "<Figure size 432x288 with 1 Axes>"
      ]
     },
     "metadata": {
      "needs_background": "light"
     },
     "output_type": "display_data"
    }
   ],
   "source": [
    "plt.hist(means_treatment, bins = 250, alpha = 0.5, density = True)[2]\n",
    "plt.hist(means_control, bins = 250, alpha = 0.5, density = True)[2]\n",
    "plt.legend(['treatment means', 'control_means'])"
   ]
  },
  {
   "cell_type": "markdown",
   "id": "b945dabd",
   "metadata": {},
   "source": [
    "Lastly, let's take the difference in the means and center the data around zero. This recreates the counterfactual distribution that would obtain *if the null hypothesis was true*."
   ]
  },
  {
   "cell_type": "code",
   "execution_count": 111,
   "id": "b20a0b2e",
   "metadata": {},
   "outputs": [
    {
     "data": {
      "text/plain": [
       "-0.028451800000000027"
      ]
     },
     "execution_count": 111,
     "metadata": {},
     "output_type": "execute_result"
    }
   ],
   "source": [
    "mean_diff = np.mean(means_treatment) - np.mean(means_control)\n",
    "mean_diff"
   ]
  },
  {
   "cell_type": "code",
   "execution_count": 112,
   "id": "8de8627e",
   "metadata": {},
   "outputs": [
    {
     "data": {
      "text/plain": [
       "<BarContainer object of 250 artists>"
      ]
     },
     "execution_count": 112,
     "metadata": {},
     "output_type": "execute_result"
    },
    {
     "data": {
      "image/png": "[encoded data removed]",
      "text/plain": [
       "<Figure size 432x288 with 1 Axes>"
      ]
     },
     "metadata": {
      "needs_background": "light"
     },
     "output_type": "display_data"
    }
   ],
   "source": [
    "centered_means = np.array(means_treatment)-np.array(means_control)-mean_diff\n",
    "plt.hist(centered_means, bins = 250)[2]"
   ]
  },
  {
   "cell_type": "code",
   "execution_count": 113,
   "id": "ef81739e",
   "metadata": {},
   "outputs": [
    {
     "data": {
      "text/plain": [
       "2.2737367544323207e-17"
      ]
     },
     "execution_count": 113,
     "metadata": {},
     "output_type": "execute_result"
    }
   ],
   "source": [
    "#check to see that distribution is centered at zero\n",
    "np.mean(centered_means)"
   ]
  },
  {
   "cell_type": "markdown",
   "id": "df210318",
   "metadata": {},
   "source": [
    "Recall from the origninal data that the raw difference between the treatment and control group page views was $\\mu_T - \\mu_C = -0.025$. Now from our histogram where the null hypothesis was correct, we just need to calculate the proportion of times we observed that $\\mu_T - \\mu_C$ was greater than -0.025 to obtain our p-value"
   ]
  },
  {
   "cell_type": "code",
   "execution_count": 119,
   "id": "9db6a93d",
   "metadata": {},
   "outputs": [],
   "source": [
    "#create array of values where centered_means > -0.025\n",
    "bootstrap_greater = np.where(centered_means > -0.025, 1, 0)"
   ]
  },
  {
   "cell_type": "code",
   "execution_count": 121,
   "id": "9910642d",
   "metadata": {},
   "outputs": [
    {
     "data": {
      "text/plain": [
       "0.5224"
      ]
     },
     "execution_count": 121,
     "metadata": {},
     "output_type": "execute_result"
    }
   ],
   "source": [
    "bootstrap_pval = np.mean(bootstrap_greater)\n",
    "bootstrap_pval"
   ]
  },
  {
   "cell_type": "markdown",
   "id": "c53c4dc3",
   "metadata": {},
   "source": [
    "Our boostrap p-value is 0.522, which is obviously greater than 0.05. We therefore cannot reject the null hypothesis and again fail to conclude that the variant in the treatment sample increased page views."
   ]
  },
  {
   "cell_type": "markdown",
   "id": "a1376028",
   "metadata": {},
   "source": [
    "## Click throughs (Binarized)\n",
    "\n",
    "As mentioned, the click through outcomes are highly discretized. We can also do a t-test here - again because the sample size is large enough. However I'm not convinced we get a lot of information given that so few of the outcomes are greater than 1. Instead, let's binarize the outcome (i.e. any clicks = 1, no clicks = 0). "
   ]
  },
  {
   "cell_type": "code",
   "execution_count": 77,
   "id": "4b0f2932",
   "metadata": {},
   "outputs": [],
   "source": [
    "pd.options.mode.chained_assignment = None\n",
    "\n",
    "df_treatment['clickthrough_flag'] = np.where(df_treatment['clicks'] > 0, 1, 0)\n",
    "df_control['clickthrough_flag'] = np.where(df_control['clicks'] > 0, 1, 0)"
   ]
  },
  {
   "cell_type": "code",
   "execution_count": 80,
   "id": "a437b346",
   "metadata": {},
   "outputs": [
    {
     "name": "stdout",
     "output_type": "stream",
     "text": [
      "Mean clickthrough rate (treatment): 0.24122222222222223\n",
      "Mean clickthrough rate (control): 0.19693333333333332\n"
     ]
    }
   ],
   "source": [
    "print(f'Mean clickthrough rate (treatment): {df_treatment.clickthrough_flag.mean()}')\n",
    "print(f'Mean clickthrough rate (control): {df_control.clickthrough_flag.mean()}')"
   ]
  },
  {
   "cell_type": "markdown",
   "id": "81df2187",
   "metadata": {},
   "source": [
    "As we can see there's a big difference (4.5 percentage points) in the binarized clickthrough rate between treatment and control. There's a good chance this is significant.\n",
    "\n",
    "Since the outcomes are binary, we can treat each observation as a bernoulli trial with probability of a successful click $p$. Since each draw can be thought of as a random sampling from the population of users, the distribution of clicks once again, via the CLT approaches a normal distribution, so a t-test or Z-test is appropriate here. "
   ]
  },
  {
   "cell_type": "code",
   "execution_count": 122,
   "id": "1f414d9c",
   "metadata": {},
   "outputs": [
    {
     "name": "stdout",
     "output_type": "stream",
     "text": [
      "The t-statistic for this test is 16.084274254146393\n",
      "The p-value for this test is 1.9825389501689305e-58\n",
      "\n",
      "\n",
      "The mean of the treatment group is statistically higher than the control group. We reject H_0 and accept H_A.\n"
     ]
    }
   ],
   "source": [
    "ttest_results = ttest_ind(df_treatment['clickthrough_flag'], df_control['clickthrough_flag'], alternative = 'greater')\n",
    "\n",
    "t_stat = ttest_results.statistic\n",
    "p_val = ttest_results.pvalue\n",
    "\n",
    "print(f'The t-statistic for this test is {t_stat}')\n",
    "print(f'The p-value for this test is {p_val}')\n",
    "\n",
    "print('\\n')\n",
    "\n",
    "if p_val <= 0.05:\n",
    "    print(f'The mean of the treatment group is statistically higher than the control group. We reject H_0 and accept H_A.')\n",
    "else:\n",
    "    print(f'The mean of the treatment group is not statistically higher than the control group. We cannot reject H_0.')"
   ]
  },
  {
   "cell_type": "markdown",
   "id": "6f98ba6e",
   "metadata": {},
   "source": [
    "Here we get a very significantly positive result indicating that the experiment did drive a higher click-through rate. \n",
    "\n",
    "## Bootstrapping (again)\n",
    "\n",
    "Let's bootstrap this too just to see it in action again. "
   ]
  },
  {
   "cell_type": "code",
   "execution_count": 125,
   "id": "5c3e64d2",
   "metadata": {},
   "outputs": [
    {
     "data": {
      "text/plain": [
       "0.9529"
      ]
     },
     "execution_count": 125,
     "metadata": {},
     "output_type": "execute_result"
    }
   ],
   "source": [
    "subsample_size = 500\n",
    "samples = 10_000\n",
    "count = 0\n",
    "means_treatment = []\n",
    "means_control = []\n",
    "\n",
    "for i in range(samples):\n",
    "    treatment_subsample = df_treatment['clickthrough_flag'].sample(n = subsample_size, replace = True)\n",
    "    control_subsample = df_control['clickthrough_flag'].sample(n = subsample_size, replace = True)\n",
    "    \n",
    "    mean_treatment = treatment_subsample.mean()\n",
    "    mean_control = control_subsample.mean()\n",
    "    \n",
    "    means_treatment.append(mean_treatment)\n",
    "    means_control.append(mean_control)\n",
    "    \n",
    "    if mean_treatment > mean_control:\n",
    "        count +=1\n",
    "        \n",
    "prob_greater = count/samples\n",
    "\n",
    "prob_greater"
   ]
  },
  {
   "cell_type": "markdown",
   "id": "9dd15619",
   "metadata": {},
   "source": [
    "95% of our random samples generated a click-through rate higher than the control group. Once again we can plot the means of the samples against each other:"
   ]
  },
  {
   "cell_type": "code",
   "execution_count": 126,
   "id": "f254f0f0",
   "metadata": {},
   "outputs": [
    {
     "data": {
      "text/plain": [
       "<matplotlib.legend.Legend at 0x2771ffa1040>"
      ]
     },
     "execution_count": 126,
     "metadata": {},
     "output_type": "execute_result"
    },
    {
     "data": {
      "image/png": "[encoded data removed]",
      "text/plain": [
       "<Figure size 432x288 with 1 Axes>"
      ]
     },
     "metadata": {
      "needs_background": "light"
     },
     "output_type": "display_data"
    }
   ],
   "source": [
    "plt.hist(means_treatment, bins = 250, alpha = 0.5, density = True)[2]\n",
    "plt.hist(means_control, bins = 250, alpha = 0.5, density = True)[2]\n",
    "plt.legend(['treatment means', 'control_means'])"
   ]
  },
  {
   "cell_type": "markdown",
   "id": "2db0f8f9",
   "metadata": {},
   "source": [
    "As we can see the treatment very cleanly separates the distributions in the click-through rate (versus page views where it did not)"
   ]
  },
  {
   "cell_type": "markdown",
   "id": "f786c32e",
   "metadata": {},
   "source": [
    "Now recall the raw difference in click-through rate is 4.43 percentage points"
   ]
  },
  {
   "cell_type": "code",
   "execution_count": 127,
   "id": "5c16d613",
   "metadata": {},
   "outputs": [
    {
     "data": {
      "text/plain": [
       "0.044288888888888905"
      ]
     },
     "execution_count": 127,
     "metadata": {},
     "output_type": "execute_result"
    }
   ],
   "source": [
    "df_treatment['clickthrough_flag'].mean() - df_control['clickthrough_flag'].mean()"
   ]
  },
  {
   "cell_type": "markdown",
   "id": "c09650de",
   "metadata": {},
   "source": [
    "Now we plot the distribution of differences and center around zero as before"
   ]
  },
  {
   "cell_type": "code",
   "execution_count": 131,
   "id": "17c6de49",
   "metadata": {},
   "outputs": [
    {
     "name": "stdout",
     "output_type": "stream",
     "text": [
      "0.00038891111111109675\n"
     ]
    },
    {
     "data": {
      "image/png": "[encoded data removed]",
      "text/plain": [
       "<Figure size 432x288 with 1 Axes>"
      ]
     },
     "metadata": {
      "needs_background": "light"
     },
     "output_type": "display_data"
    }
   ],
   "source": [
    "mean_diff = df_treatment['clickthrough_flag'].mean() - df_control['clickthrough_flag'].mean()\n",
    "\n",
    "ctr_differences = np.array(means_treatment) - np.array(means_control) - mean_diff\n",
    "plt.hist(ctr_differences, bins = 250)[2]\n",
    "\n",
    "print(ctr_differences.mean())"
   ]
  },
  {
   "cell_type": "markdown",
   "id": "6d71ed08",
   "metadata": {},
   "source": [
    "Finally, we calculate where the raw differnece lies in the distribution under the null hypothesis to get our p-value as before."
   ]
  },
  {
   "cell_type": "code",
   "execution_count": 133,
   "id": "d1682544",
   "metadata": {},
   "outputs": [
    {
     "data": {
      "text/plain": [
       "0.0433"
      ]
     },
     "execution_count": 133,
     "metadata": {},
     "output_type": "execute_result"
    }
   ],
   "source": [
    "#create array of values where centered_means > -0.025\n",
    "bootstrap_ctr_greater = np.where(ctr_differences > mean_diff, 1, 0)\n",
    "np.mean(bootstrap_ctr_greater)"
   ]
  },
  {
   "cell_type": "markdown",
   "id": "a1a6115f",
   "metadata": {},
   "source": [
    "So the p-value is 0.04 which is less than 0.05, hence we can reject the null hypothesis, and claim that the treatment worked. "
   ]
  },
  {
   "cell_type": "markdown",
   "id": "288ff901",
   "metadata": {},
   "source": [
    "## Bayesian hypothesis testing\n",
    "\n"
   ]
  },
  {
   "cell_type": "code",
   "execution_count": null,
   "id": "3f966081",
   "metadata": {},
   "outputs": [],
   "source": [
    "#import pymc3 as pm\n",
    "#\n",
    "#def logit(p):\n",
    "#    return np.log(p) - np.log(1 - p)\n",
    "#\n",
    "#\n",
    "#\n",
    "#raw_ctr = df_control['clickthrough_rate'].mean()\n",
    "#\n",
    "#raw_mean = logit(raw_ctr)\n",
    "#\n",
    "#with pm.Model() as model:\n",
    "#\n",
    "#    p_T = pm.Normal('p_T', mu = raw_mean, sigma = 0.1)\n",
    "#    p_C = pm.Normal('p_C', mu = raw_mean, sigma = 0.1)\n",
    "#    \n",
    "#    obs_T = pm.Binomial()\n",
    "#    "
   ]
  },
  {
   "cell_type": "code",
   "execution_count": null,
   "id": "04dd1ed9",
   "metadata": {},
   "outputs": [],
   "source": []
  }
 ],
 "metadata": {
  "kernelspec": {
   "display_name": "Python 3 (ipykernel)",
   "language": "python",
   "name": "python3"
  },
  "language_info": {
   "codemirror_mode": {
    "name": "ipython",
    "version": 3
   },
   "file_extension": ".py",
   "mimetype": "text/x-python",
   "name": "python",
   "nbconvert_exporter": "python",
   "pygments_lexer": "ipython3",
   "version": "3.9.7"
  }
 },
 "nbformat": 4,
 "nbformat_minor": 5
}
