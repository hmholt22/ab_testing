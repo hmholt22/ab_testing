{
 "cells": [
  {
   "cell_type": "code",
   "execution_count": 1,
   "id": "b0455530",
   "metadata": {},
   "outputs": [
    {
     "name": "stderr",
     "output_type": "stream",
     "text": [
      "C:\\Users\\Harlan Holt\\AppData\\Roaming\\Python\\Python39\\site-packages\\scipy\\__init__.py:146: UserWarning: A NumPy version >=1.16.5 and <1.23.0 is required for this version of SciPy (detected version 1.26.4\n",
      "  warnings.warn(f\"A NumPy version >={np_minversion} and <{np_maxversion}\"\n"
     ]
    }
   ],
   "source": [
    "import pandas as pd\n",
    "import numpy as np\n",
    "import seaborn as sns\n",
    "import matplotlib.pyplot as plt"
   ]
  },
  {
   "cell_type": "code",
   "execution_count": 2,
   "id": "66fc1286",
   "metadata": {},
   "outputs": [],
   "source": [
    "#read data\n",
    "outcomes = pd.read_csv('ab_test_results_aggregated_views_clicks_3.csv')"
   ]
  },
  {
   "cell_type": "markdown",
   "id": "76f0b945",
   "metadata": {},
   "source": [
    "## Initial data investigation\n",
    "\n",
    "Initial analysis suggests we have an evenly balanced treatment and control group with outcomes for views and clicks. "
   ]
  },
  {
   "cell_type": "code",
   "execution_count": 3,
   "id": "32a9f982",
   "metadata": {},
   "outputs": [
    {
     "data": {
      "text/html": [
       "<div>\n",
       "<style scoped>\n",
       "    .dataframe tbody tr th:only-of-type {\n",
       "        vertical-align: middle;\n",
       "    }\n",
       "\n",
       "    .dataframe tbody tr th {\n",
       "        vertical-align: top;\n",
       "    }\n",
       "\n",
       "    .dataframe thead th {\n",
       "        text-align: right;\n",
       "    }\n",
       "</style>\n",
       "<table border=\"1\" class=\"dataframe\">\n",
       "  <thead>\n",
       "    <tr style=\"text-align: right;\">\n",
       "      <th></th>\n",
       "      <th>user_id</th>\n",
       "      <th>group</th>\n",
       "      <th>views</th>\n",
       "      <th>clicks</th>\n",
       "    </tr>\n",
       "  </thead>\n",
       "  <tbody>\n",
       "    <tr>\n",
       "      <th>0</th>\n",
       "      <td>1</td>\n",
       "      <td>control</td>\n",
       "      <td>3.0</td>\n",
       "      <td>0.0</td>\n",
       "    </tr>\n",
       "    <tr>\n",
       "      <th>1</th>\n",
       "      <td>2</td>\n",
       "      <td>control</td>\n",
       "      <td>2.0</td>\n",
       "      <td>0.0</td>\n",
       "    </tr>\n",
       "    <tr>\n",
       "      <th>2</th>\n",
       "      <td>3</td>\n",
       "      <td>control</td>\n",
       "      <td>2.0</td>\n",
       "      <td>0.0</td>\n",
       "    </tr>\n",
       "    <tr>\n",
       "      <th>3</th>\n",
       "      <td>4</td>\n",
       "      <td>control</td>\n",
       "      <td>2.0</td>\n",
       "      <td>0.0</td>\n",
       "    </tr>\n",
       "    <tr>\n",
       "      <th>4</th>\n",
       "      <td>5</td>\n",
       "      <td>control</td>\n",
       "      <td>5.0</td>\n",
       "      <td>0.0</td>\n",
       "    </tr>\n",
       "  </tbody>\n",
       "</table>\n",
       "</div>"
      ],
      "text/plain": [
       "   user_id    group  views  clicks\n",
       "0        1  control    3.0     0.0\n",
       "1        2  control    2.0     0.0\n",
       "2        3  control    2.0     0.0\n",
       "3        4  control    2.0     0.0\n",
       "4        5  control    5.0     0.0"
      ]
     },
     "execution_count": 3,
     "metadata": {},
     "output_type": "execute_result"
    }
   ],
   "source": [
    "outcomes.head()"
   ]
  },
  {
   "cell_type": "code",
   "execution_count": 4,
   "id": "0d811947",
   "metadata": {},
   "outputs": [
    {
     "name": "stdout",
     "output_type": "stream",
     "text": [
      "<class 'pandas.core.frame.DataFrame'>\n",
      "RangeIndex: 90000 entries, 0 to 89999\n",
      "Data columns (total 4 columns):\n",
      " #   Column   Non-Null Count  Dtype  \n",
      "---  ------   --------------  -----  \n",
      " 0   user_id  90000 non-null  int64  \n",
      " 1   group    90000 non-null  object \n",
      " 2   views    90000 non-null  float64\n",
      " 3   clicks   90000 non-null  float64\n",
      "dtypes: float64(2), int64(1), object(1)\n",
      "memory usage: 2.7+ MB\n"
     ]
    }
   ],
   "source": [
    "outcomes.info()"
   ]
  },
  {
   "cell_type": "code",
   "execution_count": 5,
   "id": "926c20ae",
   "metadata": {},
   "outputs": [
    {
     "data": {
      "text/plain": [
       "group\n",
       "control    45000\n",
       "test       45000\n",
       "Name: count, dtype: int64"
      ]
     },
     "execution_count": 5,
     "metadata": {},
     "output_type": "execute_result"
    }
   ],
   "source": [
    "outcomes['group'].value_counts()"
   ]
  },
  {
   "cell_type": "markdown",
   "id": "29f442a7",
   "metadata": {},
   "source": [
    "Let's check to make sure there aren't any duplicated user id's by using `set()`"
   ]
  },
  {
   "cell_type": "code",
   "execution_count": 6,
   "id": "f4343974",
   "metadata": {},
   "outputs": [
    {
     "data": {
      "text/plain": [
       "True"
      ]
     },
     "execution_count": 6,
     "metadata": {},
     "output_type": "execute_result"
    }
   ],
   "source": [
    "#check for duplicated users\n",
    "len(outcomes['user_id']) == len(set(outcomes['user_id']))"
   ]
  },
  {
   "cell_type": "markdown",
   "id": "aab220e6",
   "metadata": {},
   "source": [
    "Let's group by control/treatment to get a sense of what our outcomes look like. \n",
    "\n",
    "Clicks are highly discretized with most outcomes = 0, and most non-zero outcomes at 1 and declining for 2, 3 and so on. Very few users click more than 5-6 times in either sample, though we do get more in the treatment."
   ]
  },
  {
   "cell_type": "code",
   "execution_count": 7,
   "id": "77005ba3",
   "metadata": {},
   "outputs": [
    {
     "data": {
      "text/plain": [
       "group    clicks\n",
       "control  0.0       36138\n",
       "         1.0        7261\n",
       "         2.0        1245\n",
       "         3.0         243\n",
       "         4.0          71\n",
       "         5.0          26\n",
       "         6.0           6\n",
       "         7.0           6\n",
       "         8.0           1\n",
       "         9.0           2\n",
       "         10.0          1\n",
       "test     0.0       34145\n",
       "         1.0        8621\n",
       "         2.0        1634\n",
       "         3.0         398\n",
       "         4.0         121\n",
       "         5.0          43\n",
       "         6.0          21\n",
       "         7.0           9\n",
       "         8.0           5\n",
       "         10.0          2\n",
       "         14.0          1\n",
       "Name: user_id, dtype: int64"
      ]
     },
     "execution_count": 7,
     "metadata": {},
     "output_type": "execute_result"
    }
   ],
   "source": [
    "outcomes.groupby(['group', 'clicks'])['user_id'].count()"
   ]
  },
  {
   "cell_type": "code",
   "execution_count": 8,
   "id": "41b924e0",
   "metadata": {},
   "outputs": [
    {
     "data": {
      "text/plain": [
       "<AxesSubplot:xlabel='clicks', ylabel='Density'>"
      ]
     },
     "execution_count": 8,
     "metadata": {},
     "output_type": "execute_result"
    },
    {
     "data": {
      "image/png": "[encoded data removed]",
      "text/plain": [
       "<Figure size 432x288 with 1 Axes>"
      ]
     },
     "metadata": {
      "needs_background": "light"
     },
     "output_type": "display_data"
    }
   ],
   "source": [
    "#create masks\n",
    "control = outcomes['group'] == 'control'\n",
    "treatment = ~control\n",
    "\n",
    "sns.kdeplot(outcomes[control]['clicks'], fill = True)\n",
    "sns.kdeplot(outcomes[treatment]['clicks'], fill = True)"
   ]
  },
  {
   "cell_type": "markdown",
   "id": "10fffdc0",
   "metadata": {},
   "source": [
    "The views outcome appears much more continuous. The distributions lie right on top of each other and have similar means and standard deviations so we'll need a test to see if there's any difference between them.\n",
    "\n",
    "(Note: I include `ddof = 1` in the options even though it's the default just to keep this calculations straight between this and `np.std()` which defaults `ddof = 0`... annoying.)"
   ]
  },
  {
   "cell_type": "code",
   "execution_count": 9,
   "id": "3da3347e",
   "metadata": {},
   "outputs": [
    {
     "data": {
      "text/plain": [
       "<AxesSubplot:xlabel='views', ylabel='Density'>"
      ]
     },
     "execution_count": 9,
     "metadata": {},
     "output_type": "execute_result"
    },
    {
     "data": {
      "image/png": "[encoded data removed]",
      "text/plain": [
       "<Figure size 432x288 with 1 Axes>"
      ]
     },
     "metadata": {
      "needs_background": "light"
     },
     "output_type": "display_data"
    }
   ],
   "source": [
    "sns.kdeplot(outcomes[control]['views'], fill = True)\n",
    "sns.kdeplot(outcomes[treatment]['views'], fill = True)"
   ]
  },
  {
   "cell_type": "code",
   "execution_count": 10,
   "id": "3670ca04",
   "metadata": {},
   "outputs": [
    {
     "name": "stdout",
     "output_type": "stream",
     "text": [
      "The mean of views in the control group is 5.024466666666667\n",
      "The mean of views in the treatment group is 4.998577777777777\n",
      "The st deviation of views in the control group is 5.872971146588647\n",
      "The st deviation of views in the treatment group is 5.926679854713689\n"
     ]
    }
   ],
   "source": [
    "print(f\"The mean of views in the control group is {outcomes[control]['views'].mean()}\")\n",
    "print(f\"The mean of views in the treatment group is {outcomes[treatment]['views'].mean()}\")\n",
    "\n",
    "print(f\"The st deviation of views in the control group is {outcomes[control]['views'].std(ddof = 1)}\")\n",
    "print(f\"The st deviation of views in the treatment group is {outcomes[treatment]['views'].std(ddof = 1)}\")"
   ]
  },
  {
   "cell_type": "code",
   "execution_count": 11,
   "id": "e9c8840a",
   "metadata": {},
   "outputs": [
    {
     "data": {
      "text/plain": [
       "-0.02588888888888974"
      ]
     },
     "execution_count": 11,
     "metadata": {},
     "output_type": "execute_result"
    }
   ],
   "source": [
    "outcomes[treatment]['views'].mean() - outcomes[control]['views'].mean()"
   ]
  },
  {
   "cell_type": "markdown",
   "id": "2934db36",
   "metadata": {},
   "source": [
    "## Initial t-test - page views\n",
    "\n",
    "Let's tackle the easiest problem first. A t-test for the views. We could also concievably do this for clicks, however since clicks is highly discretized, I'd rather treat it as a binomial problem, which we'll tackle next. \n",
    "\n",
    "Note that the distribution of `views` is obviously non-normal - probably log-normal as is usual for distributions with many zero-outcomes. In this case our hypothesis tests are compromised since the sampling data clearly violates our normality assumptions. However in this case, there are probably enough observations so that a standard t-test can still apply with a minimal loss in efficiency via the central limit theorem, so for now let's just do that. We can explore ways to correct this next. \n",
    "\n",
    "Since the experiment specifies that we're trying to increase the KPIs in the treatment sample, we can use a one-sided test. (Be careful to put your treatment and control in the correct input order in `ttest_ind()`!)\n",
    "\n",
    "Let's test the hypothesis:\n",
    "\n",
    "$H_0$: $\\mu_{T} = \\mu_{C}$\n",
    "\n",
    "$H_A$: $\\mu_{T} > \\mu_{C}$"
   ]
  },
  {
   "cell_type": "code",
   "execution_count": 12,
   "id": "5e155540",
   "metadata": {},
   "outputs": [],
   "source": [
    "from scipy.stats import ttest_ind, mannwhitneyu\n",
    "\n",
    "#create dfs for ease of use\n",
    "df_control = outcomes[control]\n",
    "df_treatment = outcomes[treatment]"
   ]
  },
  {
   "cell_type": "code",
   "execution_count": 13,
   "id": "c440ed20",
   "metadata": {},
   "outputs": [
    {
     "name": "stdout",
     "output_type": "stream",
     "text": [
      "The t-statistic for this test is -0.6582047394076368\n",
      "The p-value for this test is 0.7447958682785321\n",
      "\n",
      "\n",
      "The mean of the treatment group is not statistically higher than the control group. We cannot reject H_0.\n"
     ]
    }
   ],
   "source": [
    "ttest_results = ttest_ind(df_treatment['views'], df_control['views'], alternative = 'greater')\n",
    "t_stat = ttest_results.statistic\n",
    "p_val = ttest_results.pvalue\n",
    "\n",
    "print(f'The t-statistic for this test is {t_stat}')\n",
    "print(f'The p-value for this test is {p_val}')\n",
    "\n",
    "print('\\n')\n",
    "\n",
    "if p_val <= 0.05:\n",
    "    print(f'The mean of the treatment group is statistically higher than the control group. We reject H_0 and accept H_A.')\n",
    "else:\n",
    "    print(f'The mean of the treatment group is not statistically higher than the control group. We cannot reject H_0.')"
   ]
  },
  {
   "cell_type": "markdown",
   "id": "e5d782e2",
   "metadata": {},
   "source": [
    "Cross checking this result against our raw means - we see that the mean in the treatment group is indeed lower than that of the control group accounting for the negative test statistic. Obviously, this treatment did not produce an increase in page views. "
   ]
  },
  {
   "cell_type": "markdown",
   "id": "a9fb8f3e",
   "metadata": {},
   "source": [
    "## Non-parametric tests\n",
    "\n",
    "When dealing with non-normal sampling data, it is sometimes suggested to use non-parametric tests. In this case we can use the Mann-Whitney U-test. Normally however these tests are typically only useful for very small sample sizes ($N <= 30$) and are underpowered compared to t-tests where there is a choice.  \n",
    "\n",
    "The large value of the U-Stat is reflective of the large sample sizes we have here. Regardless, we get essentially the same p-value as the t-test and so we arrive at the same conclusion as before."
   ]
  },
  {
   "cell_type": "code",
   "execution_count": 14,
   "id": "07b11556",
   "metadata": {},
   "outputs": [
    {
     "name": "stdout",
     "output_type": "stream",
     "text": [
      "The U-statistic for this test is 1009991161.0\n",
      "The p-value for this test is 0.7423500721091285\n",
      "\n",
      "\n",
      "The mean of the treatment group is not statistically higher than the control group. We cannot reject H_0.\n"
     ]
    }
   ],
   "source": [
    "mwu_results = mannwhitneyu(df_treatment['views'], df_control['views'], alternative = 'greater')\n",
    "u_stat = mwu_results.statistic\n",
    "p_val_u = mwu_results.pvalue\n",
    "\n",
    "print(f'The U-statistic for this test is {u_stat}')\n",
    "print(f'The p-value for this test is {p_val_u}')\n",
    "\n",
    "print('\\n')\n",
    "\n",
    "if p_val <= 0.05:\n",
    "    print(f'The mean of the treatment group is statistically higher than the control group. We reject H_0 and accept H_A')\n",
    "else:\n",
    "    print(f'The mean of the treatment group is not statistically higher than the control group. We cannot reject H_0.')"
   ]
  },
  {
   "cell_type": "markdown",
   "id": "dcf4b062",
   "metadata": {},
   "source": [
    "## Bootstrapping \n",
    "\n",
    "Finally, if we're really worried about the non-normality of the sampling distributions, we can always run a bootstrap hypothesis test. The primary advantage of using bootstrapping is that it is agnostic to the sampling distributions you're testing. Thanks to the Central Limit Theorem (CLT) we know that we can take repeated samples from a distribution of any type and the distribution of the means of those samples converges to a normal distribution. \n",
    "\n",
    "Here we take repeated samples with replacement, and compare the means between each, and keep a running count of the number of times the mean of the treatment group is larger than the mean of the control group. Let's re-state our hypothesis as:\n",
    "\n",
    "$H_0$: $Pr(\\mu_T > \\mu_C) <= 0.5$\n",
    "\n",
    "$H_A$: $Pr(\\mu_T > \\mu_C) > 0.5$\n",
    "\n",
    "Or, the null hypothesis states that the probability that the mean of the treatment group is larger than the mean of the control group is less than or equal to 50\\%, and the alternative states that it is greater than 50\\%."
   ]
  },
  {
   "cell_type": "code",
   "execution_count": 15,
   "id": "574683e9",
   "metadata": {},
   "outputs": [
    {
     "data": {
      "text/plain": [
       "0.4732"
      ]
     },
     "execution_count": 15,
     "metadata": {},
     "output_type": "execute_result"
    }
   ],
   "source": [
    "subsample_size = 500\n",
    "samples = 10_000\n",
    "count = 0\n",
    "means_treatment = []\n",
    "means_control = []\n",
    "\n",
    "for i in range(samples):\n",
    "    treatment_subsample = df_treatment['views'].sample(n = subsample_size, replace = True)\n",
    "    control_subsample = df_control['views'].sample(n = subsample_size, replace = True)\n",
    "    \n",
    "    mean_treatment = treatment_subsample.mean()\n",
    "    mean_control = control_subsample.mean()\n",
    "    \n",
    "    means_treatment.append(mean_treatment)\n",
    "    means_control.append(mean_control)\n",
    "    \n",
    "    if mean_treatment > mean_control:\n",
    "        count +=1\n",
    "        \n",
    "prob_greater = count/samples\n",
    "\n",
    "prob_greater"
   ]
  },
  {
   "cell_type": "markdown",
   "id": "ac1d6a7c",
   "metadata": {},
   "source": [
    "47\\% of the time we get a sample that produces $\\mu^{boot}_T > \\mu^{boot}_C$. Obviously, this suggests the mean of the treatment group is not higher than the control group. \n",
    "\n",
    "We can plot the distribution of the ratios of the means. As we expected, given the CLT, the normality of the data is restored by taking repeated samples of the data. "
   ]
  },
  {
   "cell_type": "code",
   "execution_count": 16,
   "id": "a89ef8e7",
   "metadata": {},
   "outputs": [
    {
     "data": {
      "text/plain": [
       "<matplotlib.legend.Legend at 0x1d0eacb9c70>"
      ]
     },
     "execution_count": 16,
     "metadata": {},
     "output_type": "execute_result"
    },
    {
     "data": {
      "image/png": "[encoded data removed]",
      "text/plain": [
       "<Figure size 432x288 with 1 Axes>"
      ]
     },
     "metadata": {
      "needs_background": "light"
     },
     "output_type": "display_data"
    }
   ],
   "source": [
    "plt.hist(means_treatment, bins = 250, alpha = 0.5, density = True)[2]\n",
    "plt.hist(means_control, bins = 250, alpha = 0.5, density = True)[2]\n",
    "plt.legend(['treatment means', 'control_means'])"
   ]
  },
  {
   "cell_type": "markdown",
   "id": "e3b1d39e",
   "metadata": {},
   "source": [
    "Lastly, let's take the difference in the means and center the data around zero. This recreates the counterfactual distribution that would obtain *if the null hypothesis was true*."
   ]
  },
  {
   "cell_type": "code",
   "execution_count": 17,
   "id": "2dff4ec0",
   "metadata": {},
   "outputs": [
    {
     "data": {
      "text/plain": [
       "-0.024415599999999316"
      ]
     },
     "execution_count": 17,
     "metadata": {},
     "output_type": "execute_result"
    }
   ],
   "source": [
    "mean_diff = np.mean(means_treatment) - np.mean(means_control)\n",
    "mean_diff"
   ]
  },
  {
   "cell_type": "code",
   "execution_count": 18,
   "id": "21609fba",
   "metadata": {},
   "outputs": [
    {
     "data": {
      "text/plain": [
       "<BarContainer object of 250 artists>"
      ]
     },
     "execution_count": 18,
     "metadata": {},
     "output_type": "execute_result"
    },
    {
     "data": {
      "image/png": "[encoded data removed]",
      "text/plain": [
       "<Figure size 432x288 with 1 Axes>"
      ]
     },
     "metadata": {
      "needs_background": "light"
     },
     "output_type": "display_data"
    }
   ],
   "source": [
    "centered_means = np.array(means_treatment)-np.array(means_control)-mean_diff\n",
    "plt.hist(centered_means, bins = 250)[2]"
   ]
  },
  {
   "cell_type": "code",
   "execution_count": 19,
   "id": "55cfc96e",
   "metadata": {},
   "outputs": [
    {
     "data": {
      "text/plain": [
       "-6.844302902209165e-16"
      ]
     },
     "execution_count": 19,
     "metadata": {},
     "output_type": "execute_result"
    }
   ],
   "source": [
    "#check to see that distribution is centered at zero\n",
    "np.mean(centered_means)"
   ]
  },
  {
   "cell_type": "markdown",
   "id": "1aeb6afc",
   "metadata": {},
   "source": [
    "Recall from the origninal data that the raw difference between the treatment and control group page views was $\\mu_T - \\mu_C = -0.025$. Now from our histogram where the null hypothesis was correct, we just need to calculate the proportion of times we observed that $\\mu_T - \\mu_C$ was greater than -0.025 to obtain our p-value"
   ]
  },
  {
   "cell_type": "code",
   "execution_count": 20,
   "id": "02cd6f43",
   "metadata": {},
   "outputs": [],
   "source": [
    "#create array of values where centered_means > -0.025\n",
    "bootstrap_greater = np.where(centered_means > -0.025, 1, 0)"
   ]
  },
  {
   "cell_type": "code",
   "execution_count": 21,
   "id": "4060815e",
   "metadata": {},
   "outputs": [
    {
     "data": {
      "text/plain": [
       "0.5288"
      ]
     },
     "execution_count": 21,
     "metadata": {},
     "output_type": "execute_result"
    }
   ],
   "source": [
    "bootstrap_pval = np.mean(bootstrap_greater)\n",
    "bootstrap_pval"
   ]
  },
  {
   "cell_type": "markdown",
   "id": "2556c18d",
   "metadata": {},
   "source": [
    "Our boostrap p-value is 0.522, which is obviously greater than 0.05. We therefore cannot reject the null hypothesis and again fail to conclude that the variant in the treatment sample increased page views."
   ]
  },
  {
   "cell_type": "markdown",
   "id": "b2c5fdf4",
   "metadata": {},
   "source": [
    "## Click throughs (Binarized)\n",
    "\n",
    "As mentioned, the click through outcomes are highly discretized. We can also do a t-test here - again because the sample size is large enough. However I'm not convinced we get a lot of information given that so few of the outcomes are greater than 1. Instead, let's binarize the outcome (i.e. any clicks = 1, no clicks = 0). "
   ]
  },
  {
   "cell_type": "code",
   "execution_count": 22,
   "id": "9a575d7c",
   "metadata": {},
   "outputs": [],
   "source": [
    "pd.options.mode.chained_assignment = None\n",
    "\n",
    "df_treatment['clickthrough_flag'] = np.where(df_treatment['clicks'] > 0, 1, 0)\n",
    "df_control['clickthrough_flag'] = np.where(df_control['clicks'] > 0, 1, 0)"
   ]
  },
  {
   "cell_type": "code",
   "execution_count": 23,
   "id": "f5d03492",
   "metadata": {},
   "outputs": [
    {
     "name": "stdout",
     "output_type": "stream",
     "text": [
      "Mean clickthrough rate (treatment): 0.24122222222222223\n",
      "Mean clickthrough rate (control): 0.19693333333333332\n"
     ]
    }
   ],
   "source": [
    "print(f'Mean clickthrough rate (treatment): {df_treatment.clickthrough_flag.mean()}')\n",
    "print(f'Mean clickthrough rate (control): {df_control.clickthrough_flag.mean()}')"
   ]
  },
  {
   "cell_type": "markdown",
   "id": "11e6d6d9",
   "metadata": {},
   "source": [
    "As we can see there's a big difference (4.5 percentage points) in the binarized clickthrough rate between treatment and control. There's a good chance this is significant.\n",
    "\n",
    "Since the outcomes are binary, we can treat each observation as a bernoulli trial with probability of a successful click $p$. Since each draw can be thought of as a random sampling from the population of users, the distribution of clicks once again, via the CLT approaches a normal distribution, so a t-test or Z-test is appropriate here. "
   ]
  },
  {
   "cell_type": "code",
   "execution_count": 24,
   "id": "d0720cb7",
   "metadata": {},
   "outputs": [
    {
     "name": "stdout",
     "output_type": "stream",
     "text": [
      "The t-statistic for this test is 16.084274254146393\n",
      "The p-value for this test is 1.9825389501689305e-58\n",
      "\n",
      "\n",
      "The mean of the treatment group is statistically higher than the control group. We reject H_0 and accept H_A.\n"
     ]
    }
   ],
   "source": [
    "ttest_results = ttest_ind(df_treatment['clickthrough_flag'], df_control['clickthrough_flag'], alternative = 'greater')\n",
    "\n",
    "t_stat = ttest_results.statistic\n",
    "p_val = ttest_results.pvalue\n",
    "\n",
    "print(f'The t-statistic for this test is {t_stat}')\n",
    "print(f'The p-value for this test is {p_val}')\n",
    "\n",
    "print('\\n')\n",
    "\n",
    "if p_val <= 0.05:\n",
    "    print(f'The mean of the treatment group is statistically higher than the control group. We reject H_0 and accept H_A.')\n",
    "else:\n",
    "    print(f'The mean of the treatment group is not statistically higher than the control group. We cannot reject H_0.')"
   ]
  },
  {
   "cell_type": "markdown",
   "id": "5c57b8c2",
   "metadata": {},
   "source": [
    "Here we get a very significantly positive result indicating that the experiment did drive a higher click-through rate. \n",
    "\n",
    "## Bootstrapping (again)\n",
    "\n",
    "Let's bootstrap this too just to see it in action again. "
   ]
  },
  {
   "cell_type": "code",
   "execution_count": 25,
   "id": "f0da6936",
   "metadata": {},
   "outputs": [
    {
     "data": {
      "text/plain": [
       "0.9494"
      ]
     },
     "execution_count": 25,
     "metadata": {},
     "output_type": "execute_result"
    }
   ],
   "source": [
    "subsample_size = 500\n",
    "samples = 10_000\n",
    "count = 0\n",
    "means_treatment = []\n",
    "means_control = []\n",
    "\n",
    "for i in range(samples):\n",
    "    treatment_subsample = df_treatment['clickthrough_flag'].sample(n = subsample_size, replace = True)\n",
    "    control_subsample = df_control['clickthrough_flag'].sample(n = subsample_size, replace = True)\n",
    "    \n",
    "    mean_treatment = treatment_subsample.mean()\n",
    "    mean_control = control_subsample.mean()\n",
    "    \n",
    "    means_treatment.append(mean_treatment)\n",
    "    means_control.append(mean_control)\n",
    "    \n",
    "    if mean_treatment > mean_control:\n",
    "        count +=1\n",
    "        \n",
    "prob_greater = count/samples\n",
    "\n",
    "prob_greater"
   ]
  },
  {
   "cell_type": "markdown",
   "id": "08c1a9f2",
   "metadata": {},
   "source": [
    "95% of our random samples generated a click-through rate higher than the control group. Once again we can plot the means of the samples against each other:"
   ]
  },
  {
   "cell_type": "code",
   "execution_count": 26,
   "id": "b1ec2773",
   "metadata": {},
   "outputs": [
    {
     "data": {
      "text/plain": [
       "<matplotlib.legend.Legend at 0x1d0eab98ee0>"
      ]
     },
     "execution_count": 26,
     "metadata": {},
     "output_type": "execute_result"
    },
    {
     "data": {
      "image/png": "[encoded data removed]",
      "text/plain": [
       "<Figure size 432x288 with 1 Axes>"
      ]
     },
     "metadata": {
      "needs_background": "light"
     },
     "output_type": "display_data"
    }
   ],
   "source": [
    "plt.hist(means_treatment, bins = 250, alpha = 0.5, density = True)[2]\n",
    "plt.hist(means_control, bins = 250, alpha = 0.5, density = True)[2]\n",
    "plt.legend(['treatment means', 'control_means'])"
   ]
  },
  {
   "cell_type": "markdown",
   "id": "fc27c619",
   "metadata": {},
   "source": [
    "As we can see the treatment very cleanly separates the distributions in the click-through rate (versus page views where it did not)"
   ]
  },
  {
   "cell_type": "markdown",
   "id": "51e4ba48",
   "metadata": {},
   "source": [
    "Now recall the raw difference in click-through rate is 4.43 percentage points"
   ]
  },
  {
   "cell_type": "code",
   "execution_count": 27,
   "id": "b5fe127d",
   "metadata": {},
   "outputs": [
    {
     "data": {
      "text/plain": [
       "0.044288888888888905"
      ]
     },
     "execution_count": 27,
     "metadata": {},
     "output_type": "execute_result"
    }
   ],
   "source": [
    "df_treatment['clickthrough_flag'].mean() - df_control['clickthrough_flag'].mean()"
   ]
  },
  {
   "cell_type": "markdown",
   "id": "07ee9f88",
   "metadata": {},
   "source": [
    "Now we plot the distribution of differences and center around zero as before"
   ]
  },
  {
   "cell_type": "code",
   "execution_count": 28,
   "id": "8772e15c",
   "metadata": {},
   "outputs": [
    {
     "name": "stdout",
     "output_type": "stream",
     "text": [
      "0.00010871111111109677\n"
     ]
    },
    {
     "data": {
      "image/png": "[encoded data removed]",
      "text/plain": [
       "<Figure size 432x288 with 1 Axes>"
      ]
     },
     "metadata": {
      "needs_background": "light"
     },
     "output_type": "display_data"
    }
   ],
   "source": [
    "mean_diff = df_treatment['clickthrough_flag'].mean() - df_control['clickthrough_flag'].mean()\n",
    "\n",
    "ctr_differences = np.array(means_treatment) - np.array(means_control) - mean_diff\n",
    "plt.hist(ctr_differences, bins = 250)[2]\n",
    "\n",
    "print(ctr_differences.mean())"
   ]
  },
  {
   "cell_type": "markdown",
   "id": "557e362f",
   "metadata": {},
   "source": [
    "Finally, we calculate where the raw differnece lies in the distribution under the null hypothesis to get our p-value as before."
   ]
  },
  {
   "cell_type": "code",
   "execution_count": 29,
   "id": "ba4d68b3",
   "metadata": {},
   "outputs": [
    {
     "data": {
      "text/plain": [
       "0.0457"
      ]
     },
     "execution_count": 29,
     "metadata": {},
     "output_type": "execute_result"
    }
   ],
   "source": [
    "#create array of values where centered_means > -0.025\n",
    "bootstrap_ctr_greater = np.where(ctr_differences > mean_diff, 1, 0)\n",
    "np.mean(bootstrap_ctr_greater)"
   ]
  },
  {
   "cell_type": "markdown",
   "id": "5a44c879",
   "metadata": {},
   "source": [
    "So the p-value is 0.04 which is less than 0.05, hence we can reject the null hypothesis, and claim that the treatment worked. "
   ]
  },
  {
   "cell_type": "markdown",
   "id": "89aeeede",
   "metadata": {},
   "source": [
    "## Bayesian hypothesis testing\n",
    "\n"
   ]
  },
  {
   "cell_type": "code",
   "execution_count": 31,
   "id": "4d4f8127",
   "metadata": {},
   "outputs": [
    {
     "ename": "ModuleNotFoundError",
     "evalue": "No module named 'pymc'",
     "output_type": "error",
     "traceback": [
      "\u001b[1;31m---------------------------------------------------------------------------\u001b[0m",
      "\u001b[1;31mModuleNotFoundError\u001b[0m                       Traceback (most recent call last)",
      "\u001b[1;32mC:\\Users\\HARLAN~1\\AppData\\Local\\Temp/ipykernel_4872/3415151905.py\u001b[0m in \u001b[0;36m<module>\u001b[1;34m\u001b[0m\n\u001b[1;32m----> 1\u001b[1;33m \u001b[1;32mimport\u001b[0m \u001b[0mpymc\u001b[0m \u001b[1;32mas\u001b[0m \u001b[0mpm\u001b[0m\u001b[1;33m\u001b[0m\u001b[1;33m\u001b[0m\u001b[0m\n\u001b[0m\u001b[0;32m      2\u001b[0m \u001b[1;33m\u001b[0m\u001b[0m\n\u001b[0;32m      3\u001b[0m \u001b[1;32mdef\u001b[0m \u001b[0mlogit\u001b[0m\u001b[1;33m(\u001b[0m\u001b[0mp\u001b[0m\u001b[1;33m)\u001b[0m\u001b[1;33m:\u001b[0m\u001b[1;33m\u001b[0m\u001b[1;33m\u001b[0m\u001b[0m\n\u001b[0;32m      4\u001b[0m     \u001b[1;32mreturn\u001b[0m \u001b[0mnp\u001b[0m\u001b[1;33m.\u001b[0m\u001b[0mlog\u001b[0m\u001b[1;33m(\u001b[0m\u001b[0mp\u001b[0m\u001b[1;33m)\u001b[0m \u001b[1;33m-\u001b[0m \u001b[0mnp\u001b[0m\u001b[1;33m.\u001b[0m\u001b[0mlog\u001b[0m\u001b[1;33m(\u001b[0m\u001b[1;36m1\u001b[0m \u001b[1;33m-\u001b[0m \u001b[0mp\u001b[0m\u001b[1;33m)\u001b[0m\u001b[1;33m\u001b[0m\u001b[1;33m\u001b[0m\u001b[0m\n\u001b[0;32m      5\u001b[0m \u001b[1;33m\u001b[0m\u001b[0m\n",
      "\u001b[1;31mModuleNotFoundError\u001b[0m: No module named 'pymc'"
     ]
    }
   ],
   "source": [
    "import pymc as pm\n",
    "\n",
    "def logit(p):\n",
    "    return np.log(p) - np.log(1 - p)\n",
    "\n",
    "def inv_logit(p):\n",
    "    return np.exp(p) / (1 + np.exp(p))\n",
    "\n",
    "raw_ctr = df_control['clickthrough_rate'].mean()\n",
    "\n",
    "raw_logit = logit(raw_ctr)\n",
    "\n",
    "with pm.Model() as model:\n",
    "\n",
    "    p_T = pm.Normal('p_T', mu = raw_logit, sigma = 0.1)\n",
    "    p_C = pm.Normal('p_C', mu = raw_logit, sigma = 0.1)\n",
    "        \n",
    "    obs_T = pm.Binomial('obs_T', n=df_treatment.shape[0], p=inv_logit(p_A), observed=np.array(df_treatment['clickthrough_flag']))\n",
    "    obs_B = pm.Binomial('obs_B', n=df_control.shape[0], p=inv_logit(p_B), observed=np.array(df_treatment['clickthrough_flag']))\n",
    "    \n",
    "    pm.Deterministic('difference', p_B - p_A)\n",
    "    \n",
    "    trace = pm.sample(draws=50000, progressbar=True)\n",
    "    \n",
    "    pm.traceplot(trace[1000:])\n",
    "    \n",
    "    pm.plot_posterior(trace, var_names=['p_A', 'p_B'], \n",
    "                      ref_val=0)\n",
    "    \n",
    "    pm.plot_posterior(trace, var_names=['difference'], \n",
    "                      ref_val=0)\n",
    "\n",
    "    "
   ]
  },
  {
   "cell_type": "code",
   "execution_count": 31,
   "id": "fe3b57c3",
   "metadata": {},
   "outputs": [
    {
     "name": "stdout",
     "output_type": "stream",
     "text": [
      "Collecting pymc\n",
      "  Using cached pymc-5.12.0-py3-none-any.whl (473 kB)\n",
      "Requirement already satisfied: cloudpickle in c:\\users\\harlan holt\\anaconda3\\lib\\site-packages (from pymc) (2.0.0)\n",
      "Requirement already satisfied: numpy>=1.15.0 in c:\\users\\harlan holt\\appdata\\roaming\\python\\python39\\site-packages (from pymc) (1.22.1)\n",
      "Requirement already satisfied: fastprogress>=0.2.0 in c:\\users\\harlan holt\\appdata\\roaming\\python\\python39\\site-packages (from pymc) (1.0.3)\n",
      "Requirement already satisfied: typing-extensions>=3.7.4 in c:\\users\\harlan holt\\anaconda3\\lib\\site-packages (from pymc) (3.10.0.2)\n",
      "Requirement already satisfied: pandas>=0.24.0 in c:\\users\\harlan holt\\appdata\\roaming\\python\\python39\\site-packages (from pymc) (2.0.3)\n",
      "Requirement already satisfied: cachetools>=4.2.1 in c:\\users\\harlan holt\\anaconda3\\lib\\site-packages (from pymc) (5.2.0)\n",
      "Requirement already satisfied: scipy>=1.4.1 in c:\\users\\harlan holt\\appdata\\roaming\\python\\python39\\site-packages (from pymc) (1.7.3)\n",
      "Collecting arviz>=0.13.0\n",
      "  Using cached arviz-0.17.1-py3-none-any.whl (1.7 MB)\n",
      "Collecting pytensor<2.20,>=2.19\n",
      "  Using cached pytensor-2.19.0-cp39-cp39-win_amd64.whl (1.3 MB)\n",
      "Requirement already satisfied: xarray-einstats>=0.3 in c:\\users\\harlan holt\\appdata\\roaming\\python\\python39\\site-packages (from arviz>=0.13.0->pymc) (0.6.0)\n",
      "Requirement already satisfied: xarray>=0.21.0 in c:\\users\\harlan holt\\appdata\\roaming\\python\\python39\\site-packages (from arviz>=0.13.0->pymc) (2023.12.0)\n",
      "Collecting typing-extensions>=3.7.4\n",
      "  Using cached typing_extensions-4.12.2-py3-none-any.whl (37 kB)\n",
      "Collecting h5netcdf>=1.0.2\n",
      "  Using cached h5netcdf-1.3.0-py3-none-any.whl (43 kB)\n",
      "Collecting matplotlib>=3.5\n",
      "  Using cached matplotlib-3.9.1-cp39-cp39-win_amd64.whl (8.0 MB)\n",
      "Requirement already satisfied: setuptools>=60.0.0 in c:\\users\\harlan holt\\anaconda3\\lib\\site-packages (from arviz>=0.13.0->pymc) (69.2.0)\n",
      "Collecting scipy>=1.4.1\n",
      "  Using cached scipy-1.13.1-cp39-cp39-win_amd64.whl (46.2 MB)\n",
      "Requirement already satisfied: packaging in c:\\users\\harlan holt\\anaconda3\\lib\\site-packages (from arviz>=0.13.0->pymc) (24.0)\n",
      "Requirement already satisfied: h5py in c:\\users\\harlan holt\\anaconda3\\lib\\site-packages (from h5netcdf>=1.0.2->arviz>=0.13.0->pymc) (3.2.1)\n",
      "Collecting numpy>=1.15.0\n",
      "  Using cached numpy-1.26.4-cp39-cp39-win_amd64.whl (15.8 MB)\n",
      "Collecting contourpy>=1.0.1\n",
      "  Using cached contourpy-1.2.1-cp39-cp39-win_amd64.whl (182 kB)\n",
      "Requirement already satisfied: pyparsing>=2.3.1 in c:\\users\\harlan holt\\anaconda3\\lib\\site-packages (from matplotlib>=3.5->arviz>=0.13.0->pymc) (3.0.4)\n",
      "Requirement already satisfied: fonttools>=4.22.0 in c:\\users\\harlan holt\\anaconda3\\lib\\site-packages (from matplotlib>=3.5->arviz>=0.13.0->pymc) (4.25.0)\n",
      "Requirement already satisfied: python-dateutil>=2.7 in c:\\users\\harlan holt\\anaconda3\\lib\\site-packages (from matplotlib>=3.5->arviz>=0.13.0->pymc) (2.8.2)\n",
      "Requirement already satisfied: cycler>=0.10 in c:\\users\\harlan holt\\anaconda3\\lib\\site-packages (from matplotlib>=3.5->arviz>=0.13.0->pymc) (0.10.0)\n",
      "Requirement already satisfied: kiwisolver>=1.3.1 in c:\\users\\harlan holt\\anaconda3\\lib\\site-packages (from matplotlib>=3.5->arviz>=0.13.0->pymc) (1.3.1)\n",
      "Requirement already satisfied: importlib-resources>=3.2.0 in c:\\users\\harlan holt\\anaconda3\\lib\\site-packages (from matplotlib>=3.5->arviz>=0.13.0->pymc) (6.4.0)\n",
      "Requirement already satisfied: pillow>=8 in c:\\users\\harlan holt\\anaconda3\\lib\\site-packages (from matplotlib>=3.5->arviz>=0.13.0->pymc) (8.4.0)\n",
      "Requirement already satisfied: six in c:\\users\\harlan holt\\anaconda3\\lib\\site-packages (from cycler>=0.10->matplotlib>=3.5->arviz>=0.13.0->pymc) (1.16.0)\n",
      "Requirement already satisfied: zipp>=3.1.0 in c:\\users\\harlan holt\\anaconda3\\lib\\site-packages (from importlib-resources>=3.2.0->matplotlib>=3.5->arviz>=0.13.0->pymc) (3.6.0)\n",
      "Requirement already satisfied: tzdata>=2022.1 in c:\\users\\harlan holt\\anaconda3\\lib\\site-packages (from pandas>=0.24.0->pymc) (2024.1)\n",
      "Requirement already satisfied: pytz>=2020.1 in c:\\users\\harlan holt\\appdata\\roaming\\python\\python39\\site-packages (from pandas>=0.24.0->pymc) (2024.1)\n",
      "Collecting etuples\n",
      "  Using cached etuples-0.3.9-py3-none-any.whl\n",
      "Collecting miniKanren\n",
      "  Using cached miniKanren-1.0.3-py3-none-any.whl\n",
      "Requirement already satisfied: filelock in c:\\users\\harlan holt\\anaconda3\\lib\\site-packages (from pytensor<2.20,>=2.19->pymc) (3.3.1)\n",
      "Collecting logical-unification\n",
      "  Using cached logical_unification-0.4.6-py3-none-any.whl\n",
      "Collecting cons\n",
      "  Using cached cons-0.4.6-py3-none-any.whl\n",
      "Requirement already satisfied: toolz in c:\\users\\harlan holt\\anaconda3\\lib\\site-packages (from logical-unification->pytensor<2.20,>=2.19->pymc) (0.11.1)\n",
      "Requirement already satisfied: multipledispatch in c:\\users\\harlan holt\\anaconda3\\lib\\site-packages (from logical-unification->pytensor<2.20,>=2.19->pymc) (0.6.0)\n",
      "Installing collected packages: numpy, logical-unification, cons, scipy, etuples, contourpy, typing-extensions, miniKanren, matplotlib, h5netcdf, pytensor, arviz, pymc\n",
      "  Attempting uninstall: numpy\n",
      "    Found existing installation: numpy 1.22.1\n",
      "    Uninstalling numpy-1.22.1:\n",
      "      Successfully uninstalled numpy-1.22.1\n",
      "Note: you may need to restart the kernel to use updated packages.\n"
     ]
    },
    {
     "name": "stderr",
     "output_type": "stream",
     "text": [
      "WARNING: Ignoring invalid distribution -tatsmodels (c:\\users\\harlan holt\\anaconda3\\lib\\site-packages)\n",
      "WARNING: Ignoring invalid distribution -tatsmodels (c:\\users\\harlan holt\\anaconda3\\lib\\site-packages)\n",
      "WARNING: Ignoring invalid distribution -tatsmodels (c:\\users\\harlan holt\\anaconda3\\lib\\site-packages)\n",
      "  WARNING: The script f2py.exe is installed in 'C:\\Users\\Harlan Holt\\AppData\\Roaming\\Python\\Python39\\Scripts' which is not on PATH.\n",
      "  Consider adding this directory to PATH or, if you prefer to suppress this warning, use --no-warn-script-location.\n",
      "ERROR: Could not install packages due to an OSError: [WinError 5] Access is denied: 'C:\\\\Users\\\\Harlan Holt\\\\AppData\\\\Roaming\\\\Python\\\\Python39\\\\site-packages\\\\~umpy\\\\.libs\\\\libopenblas.EL2C6PLE4ZYW3ECEVIV3OXXGRN2NRFM2.gfortran-win_amd64.dll'\n",
      "Check the permissions.\n",
      "\n",
      "WARNING: Ignoring invalid distribution -tatsmodels (c:\\users\\harlan holt\\anaconda3\\lib\\site-packages)\n",
      "WARNING: Ignoring invalid distribution -tatsmodels (c:\\users\\harlan holt\\anaconda3\\lib\\site-packages)\n",
      "WARNING: Ignoring invalid distribution -tatsmodels (c:\\users\\harlan holt\\anaconda3\\lib\\site-packages)\n"
     ]
    }
   ],
   "source": [
    "pip install pymc --user"
   ]
  },
  {
   "cell_type": "code",
   "execution_count": null,
   "id": "034f6286",
   "metadata": {},
   "outputs": [],
   "source": []
  }
 ],
 "metadata": {
  "kernelspec": {
   "display_name": "Python 3 (ipykernel)",
   "language": "python",
   "name": "python3"
  },
  "language_info": {
   "codemirror_mode": {
    "name": "ipython",
    "version": 3
   },
   "file_extension": ".py",
   "mimetype": "text/x-python",
   "name": "python",
   "nbconvert_exporter": "python",
   "pygments_lexer": "ipython3",
   "version": "3.9.7"
  }
 },
 "nbformat": 4,
 "nbformat_minor": 5
}
